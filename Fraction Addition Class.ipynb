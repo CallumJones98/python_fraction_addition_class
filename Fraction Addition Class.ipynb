{
 "cells": [
  {
   "cell_type": "code",
   "execution_count": null,
   "id": "d53fc2bb-e251-4ee6-95ac-0fdf59d2c0c8",
   "metadata": {},
   "outputs": [],
   "source": [
    "class DivisionCalc:\n",
    "    def __init__(self):\n",
    "        self.numerator_one = int(input('Numerator for fraction one: '))\n",
    "        self.denominator_one = int(input('Denominator for fraction one: '))\n",
    "        self.numerator_two = int(input('Numerator for fraction two: '))\n",
    "        self.denominator_two = int(input('Denominator for fraction two: '))\n",
    "\n",
    "    def lowest_common_denominator(self):\n",
    "        def gcd(a, b):\n",
    "            while b:\n",
    "                a, b = b, a % b\n",
    "            return a\n",
    "\n",
    "        lcm = (self.denominator_one * self.denominator_two) // gcd(self.denominator_one, self.denominator_two)\n",
    "        self.lcd = lcm\n",
    "        return self.lcd\n",
    "\n",
    "    def proper_fraction(self):\n",
    "        self.lowest_common_denominator()  \n",
    "        fract_one_calc = self.lcd // self.denominator_one\n",
    "        fract_two_calc = self.lcd // self.denominator_two\n",
    "\n",
    "        self.new_numerator_one = fract_one_calc * self.numerator_one\n",
    "        self.new_numerator_two = fract_two_calc * self.numerator_two\n",
    "\n",
    "    def new_fraction(self):\n",
    "        self.proper_fraction()  \n",
    "\n",
    "        final_numerator = self.new_numerator_one + self.new_numerator_two\n",
    "\n",
    "        if final_numerator % 2 == 0 and self.lcd % 2 == 0:\n",
    "            print(f'Addition of the two fractions results in {final_numerator // 2} / {self.lcd // 2}')\n",
    "        else:\n",
    "            print(f'Addition of the two fractions results in {final_numerator} / {self.lcd}')\n",
    "\n",
    "\n",
    "division = DivisionCalc() \n",
    "division.new_fraction()    \n"
   ]
  },
  {
   "cell_type": "code",
   "execution_count": null,
   "id": "b6ba6f3a-4f38-4842-846e-ebd0688cf745",
   "metadata": {},
   "outputs": [],
   "source": []
  }
 ],
 "metadata": {
  "kernelspec": {
   "display_name": "Python 3 (ipykernel)",
   "language": "python",
   "name": "python3"
  },
  "language_info": {
   "codemirror_mode": {
    "name": "ipython",
    "version": 3
   },
   "file_extension": ".py",
   "mimetype": "text/x-python",
   "name": "python",
   "nbconvert_exporter": "python",
   "pygments_lexer": "ipython3",
   "version": "3.12.7"
  }
 },
 "nbformat": 4,
 "nbformat_minor": 5
}
